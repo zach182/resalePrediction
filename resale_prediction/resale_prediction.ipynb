{
 "cells": [
  {
   "cell_type": "markdown",
   "metadata": {},
   "source": [
    "# Load the Data"
   ]
  },
  {
   "cell_type": "markdown",
   "metadata": {},
   "source": [
    "This front portion of the database will be using pyspark as it is something that I have been keen to explore. It is also for its label encoding feature."
   ]
  },
  {
   "cell_type": "code",
   "execution_count": 2,
   "metadata": {},
   "outputs": [],
   "source": [
    "import pyspark\n",
    "import pandas as pd\n",
    "from pyspark.sql import SparkSession\n",
    " \n",
    "# Create a SparkSession\n",
    "spark = SparkSession.builder.config(\"spark.executor.memory\", \"2g\").appName('test').getOrCreate()\n",
    "import platform\n"
   ]
  },
  {
   "cell_type": "code",
   "execution_count": 3,
   "metadata": {},
   "outputs": [
    {
     "name": "stdout",
     "output_type": "stream",
     "text": [
      "+-------------------+----------+---------+-----+-----------------+------------+--------------+--------------+-------------------+------------------+------------+\n",
      "|              month|      town|flat_type|block|      street_name|storey_range|floor_area_sqm|    flat_model|lease_commence_date|   remaining_lease|resale_price|\n",
      "+-------------------+----------+---------+-----+-----------------+------------+--------------+--------------+-------------------+------------------+------------+\n",
      "|2017-01-01 00:00:00|ANG MO KIO|   2 ROOM|  406|ANG MO KIO AVE 10|    10 TO 12|          44.0|      Improved|               1979|61 years 04 months|    232000.0|\n",
      "|2017-01-01 00:00:00|ANG MO KIO|   3 ROOM|  108| ANG MO KIO AVE 4|    01 TO 03|          67.0|New Generation|               1978|60 years 07 months|    250000.0|\n",
      "|2017-01-01 00:00:00|ANG MO KIO|   3 ROOM|  602| ANG MO KIO AVE 5|    01 TO 03|          67.0|New Generation|               1980|62 years 05 months|    262000.0|\n",
      "|2017-01-01 00:00:00|ANG MO KIO|   3 ROOM|  465|ANG MO KIO AVE 10|    04 TO 06|          68.0|New Generation|               1980| 62 years 01 month|    265000.0|\n",
      "|2017-01-01 00:00:00|ANG MO KIO|   3 ROOM|  601| ANG MO KIO AVE 5|    01 TO 03|          67.0|New Generation|               1980|62 years 05 months|    265000.0|\n",
      "|2017-01-01 00:00:00|ANG MO KIO|   3 ROOM|  150| ANG MO KIO AVE 5|    01 TO 03|          68.0|New Generation|               1981|          63 years|    275000.0|\n",
      "|2017-01-01 00:00:00|ANG MO KIO|   3 ROOM|  447|ANG MO KIO AVE 10|    04 TO 06|          68.0|New Generation|               1979|61 years 06 months|    280000.0|\n",
      "|2017-01-01 00:00:00|ANG MO KIO|   3 ROOM|  218| ANG MO KIO AVE 1|    04 TO 06|          67.0|New Generation|               1976|58 years 04 months|    285000.0|\n",
      "|2017-01-01 00:00:00|ANG MO KIO|   3 ROOM|  447|ANG MO KIO AVE 10|    04 TO 06|          68.0|New Generation|               1979|61 years 06 months|    285000.0|\n",
      "|2017-01-01 00:00:00|ANG MO KIO|   3 ROOM|  571| ANG MO KIO AVE 3|    01 TO 03|          67.0|New Generation|               1979|61 years 04 months|    285000.0|\n",
      "|2017-01-01 00:00:00|ANG MO KIO|   3 ROOM|  534|ANG MO KIO AVE 10|    01 TO 03|          68.0|New Generation|               1980| 62 years 01 month|    288500.0|\n",
      "|2017-01-01 00:00:00|ANG MO KIO|   3 ROOM|  233| ANG MO KIO AVE 3|    10 TO 12|          67.0|New Generation|               1977|59 years 08 months|    295000.0|\n",
      "|2017-01-01 00:00:00|ANG MO KIO|   3 ROOM|  235| ANG MO KIO AVE 3|    04 TO 06|          67.0|New Generation|               1977|59 years 08 months|    295000.0|\n",
      "|2017-01-01 00:00:00|ANG MO KIO|   3 ROOM|  219| ANG MO KIO AVE 1|    07 TO 09|          67.0|New Generation|               1977|59 years 06 months|    297000.0|\n",
      "|2017-01-01 00:00:00|ANG MO KIO|   3 ROOM|  536|ANG MO KIO AVE 10|    07 TO 09|          68.0|New Generation|               1980| 62 years 01 month|    298000.0|\n",
      "|2017-01-01 00:00:00|ANG MO KIO|   3 ROOM|  230| ANG MO KIO AVE 3|    04 TO 06|          67.0|New Generation|               1978|          60 years|    298000.0|\n",
      "|2017-01-01 00:00:00|ANG MO KIO|   3 ROOM|  570| ANG MO KIO AVE 3|    10 TO 12|          67.0|New Generation|               1979|61 years 04 months|    300000.0|\n",
      "|2017-01-01 00:00:00|ANG MO KIO|   3 ROOM|  624| ANG MO KIO AVE 4|    04 TO 06|          68.0|New Generation|               1980|62 years 08 months|    301000.0|\n",
      "|2017-01-01 00:00:00|ANG MO KIO|   3 ROOM|  441|ANG MO KIO AVE 10|    07 TO 09|          67.0|New Generation|               1979|          61 years|    306000.0|\n",
      "|2017-01-01 00:00:00|ANG MO KIO|   3 ROOM|  625| ANG MO KIO AVE 9|    04 TO 06|          68.0|New Generation|               1980|62 years 08 months|    312000.0|\n",
      "+-------------------+----------+---------+-----+-----------------+------------+--------------+--------------+-------------------+------------------+------------+\n",
      "only showing top 20 rows\n",
      "\n"
     ]
    }
   ],
   "source": [
    "df_pyspark = spark.read.option('header','true').csv('ResaleflatpricesbasedonregistrationdatefromJan2017onwards.csv',inferSchema=True)\n",
    "df_pyspark.show()"
   ]
  },
  {
   "cell_type": "markdown",
   "metadata": {},
   "source": [
    "# Prepare training data"
   ]
  },
  {
   "cell_type": "markdown",
   "metadata": {},
   "source": [
    "Feature engineering to change the year and remaining lease columns"
   ]
  },
  {
   "cell_type": "code",
   "execution_count": 4,
   "metadata": {},
   "outputs": [
    {
     "name": "stdout",
     "output_type": "stream",
     "text": [
      "+-------------------+----------+---------+-----+-----------------+------------+--------------+--------------+-------------------+---------------+------------+----+-------+-----------------+\n",
      "|              month|      town|flat_type|block|      street_name|storey_range|floor_area_sqm|    flat_model|lease_commence_date|remaining_lease|resale_price|year|quarter|formatted_quarter|\n",
      "+-------------------+----------+---------+-----+-----------------+------------+--------------+--------------+-------------------+---------------+------------+----+-------+-----------------+\n",
      "|2017-01-01 00:00:00|ANG MO KIO|   2 ROOM|  406|ANG MO KIO AVE 10|    10 TO 12|          44.0|      Improved|               1979|             61|    232000.0|2017|      1|          2017 1Q|\n",
      "|2017-01-01 00:00:00|ANG MO KIO|   3 ROOM|  108| ANG MO KIO AVE 4|    01 TO 03|          67.0|New Generation|               1978|             60|    250000.0|2017|      1|          2017 1Q|\n",
      "|2017-01-01 00:00:00|ANG MO KIO|   3 ROOM|  602| ANG MO KIO AVE 5|    01 TO 03|          67.0|New Generation|               1980|             62|    262000.0|2017|      1|          2017 1Q|\n",
      "|2017-01-01 00:00:00|ANG MO KIO|   3 ROOM|  465|ANG MO KIO AVE 10|    04 TO 06|          68.0|New Generation|               1980|             62|    265000.0|2017|      1|          2017 1Q|\n",
      "|2017-01-01 00:00:00|ANG MO KIO|   3 ROOM|  601| ANG MO KIO AVE 5|    01 TO 03|          67.0|New Generation|               1980|             62|    265000.0|2017|      1|          2017 1Q|\n",
      "|2017-01-01 00:00:00|ANG MO KIO|   3 ROOM|  150| ANG MO KIO AVE 5|    01 TO 03|          68.0|New Generation|               1981|             63|    275000.0|2017|      1|          2017 1Q|\n",
      "|2017-01-01 00:00:00|ANG MO KIO|   3 ROOM|  447|ANG MO KIO AVE 10|    04 TO 06|          68.0|New Generation|               1979|             61|    280000.0|2017|      1|          2017 1Q|\n",
      "|2017-01-01 00:00:00|ANG MO KIO|   3 ROOM|  218| ANG MO KIO AVE 1|    04 TO 06|          67.0|New Generation|               1976|             58|    285000.0|2017|      1|          2017 1Q|\n",
      "|2017-01-01 00:00:00|ANG MO KIO|   3 ROOM|  447|ANG MO KIO AVE 10|    04 TO 06|          68.0|New Generation|               1979|             61|    285000.0|2017|      1|          2017 1Q|\n",
      "|2017-01-01 00:00:00|ANG MO KIO|   3 ROOM|  571| ANG MO KIO AVE 3|    01 TO 03|          67.0|New Generation|               1979|             61|    285000.0|2017|      1|          2017 1Q|\n",
      "|2017-01-01 00:00:00|ANG MO KIO|   3 ROOM|  534|ANG MO KIO AVE 10|    01 TO 03|          68.0|New Generation|               1980|             62|    288500.0|2017|      1|          2017 1Q|\n",
      "|2017-01-01 00:00:00|ANG MO KIO|   3 ROOM|  233| ANG MO KIO AVE 3|    10 TO 12|          67.0|New Generation|               1977|             59|    295000.0|2017|      1|          2017 1Q|\n",
      "|2017-01-01 00:00:00|ANG MO KIO|   3 ROOM|  235| ANG MO KIO AVE 3|    04 TO 06|          67.0|New Generation|               1977|             59|    295000.0|2017|      1|          2017 1Q|\n",
      "|2017-01-01 00:00:00|ANG MO KIO|   3 ROOM|  219| ANG MO KIO AVE 1|    07 TO 09|          67.0|New Generation|               1977|             59|    297000.0|2017|      1|          2017 1Q|\n",
      "|2017-01-01 00:00:00|ANG MO KIO|   3 ROOM|  536|ANG MO KIO AVE 10|    07 TO 09|          68.0|New Generation|               1980|             62|    298000.0|2017|      1|          2017 1Q|\n",
      "|2017-01-01 00:00:00|ANG MO KIO|   3 ROOM|  230| ANG MO KIO AVE 3|    04 TO 06|          67.0|New Generation|               1978|             60|    298000.0|2017|      1|          2017 1Q|\n",
      "|2017-01-01 00:00:00|ANG MO KIO|   3 ROOM|  570| ANG MO KIO AVE 3|    10 TO 12|          67.0|New Generation|               1979|             61|    300000.0|2017|      1|          2017 1Q|\n",
      "|2017-01-01 00:00:00|ANG MO KIO|   3 ROOM|  624| ANG MO KIO AVE 4|    04 TO 06|          68.0|New Generation|               1980|             62|    301000.0|2017|      1|          2017 1Q|\n",
      "|2017-01-01 00:00:00|ANG MO KIO|   3 ROOM|  441|ANG MO KIO AVE 10|    07 TO 09|          67.0|New Generation|               1979|             61|    306000.0|2017|      1|          2017 1Q|\n",
      "|2017-01-01 00:00:00|ANG MO KIO|   3 ROOM|  625| ANG MO KIO AVE 9|    04 TO 06|          68.0|New Generation|               1980|             62|    312000.0|2017|      1|          2017 1Q|\n",
      "+-------------------+----------+---------+-----+-----------------+------------+--------------+--------------+-------------------+---------------+------------+----+-------+-----------------+\n",
      "only showing top 20 rows\n",
      "\n"
     ]
    }
   ],
   "source": [
    "from pyspark.sql import SparkSession\n",
    "from pyspark.sql.functions import regexp_extract\n",
    "from pyspark.sql.functions import udf\n",
    "from pyspark.sql.types import IntegerType, FloatType, DoubleType\n",
    "from pyspark.sql.types import StringType\n",
    "from pyspark.sql.functions import concat, col, lit\n",
    "from pyspark.ml.feature import StringIndexer\n",
    "from pyspark.sql.functions import year\n",
    "from pyspark.sql.functions import quarter\n",
    "\n",
    "df_pyspark = df_pyspark.withColumn(\"remaining_lease\", regexp_extract('remaining_lease', r\"(\\d+) years\", 1))\n",
    "df_pyspark = df_pyspark.withColumn(\"year\", year(df_pyspark['month']))\n",
    "df_pyspark = df_pyspark.withColumn(\"quarter\", quarter(df_pyspark['month']))\n",
    "df_pyspark = df_pyspark.withColumn(\"formatted_quarter\",  concat('year', lit(' '), 'quarter',lit('Q')))\n",
    "df_pyspark.show()"
   ]
  },
  {
   "cell_type": "markdown",
   "metadata": {},
   "source": [
    "**Handling categorical features**"
   ]
  },
  {
   "cell_type": "code",
   "execution_count": 7,
   "metadata": {},
   "outputs": [
    {
     "name": "stdout",
     "output_type": "stream",
     "text": [
      "root\n",
      " |-- month: timestamp (nullable = true)\n",
      " |-- town: string (nullable = true)\n",
      " |-- flat_type: string (nullable = true)\n",
      " |-- block: string (nullable = true)\n",
      " |-- street_name: string (nullable = true)\n",
      " |-- storey_range: string (nullable = true)\n",
      " |-- floor_area_sqm: double (nullable = true)\n",
      " |-- flat_model: string (nullable = true)\n",
      " |-- lease_commence_date: integer (nullable = true)\n",
      " |-- remaining_lease: integer (nullable = true)\n",
      " |-- resale_price: double (nullable = true)\n",
      " |-- year: integer (nullable = true)\n",
      " |-- quarter: integer (nullable = true)\n",
      " |-- formatted_quarter: string (nullable = true)\n",
      " |-- townIndexed: double (nullable = false)\n",
      " |-- flatTypeIndexed: double (nullable = false)\n",
      " |-- flatModelIndexed: double (nullable = false)\n",
      " |-- storeyRangeIndexed: double (nullable = false)\n",
      " |-- quarterIndexed: double (nullable = false)\n",
      "\n",
      "+-------------------+----------+---------+-----+-----------------+------------+--------------+--------------+-------------------+---------------+------------+----+-------+-----------------+-----------+---------------+----------------+------------------+--------------+\n",
      "|              month|      town|flat_type|block|      street_name|storey_range|floor_area_sqm|    flat_model|lease_commence_date|remaining_lease|resale_price|year|quarter|formatted_quarter|townIndexed|flatTypeIndexed|flatModelIndexed|storeyRangeIndexed|quarterIndexed|\n",
      "+-------------------+----------+---------+-----+-----------------+------------+--------------+--------------+-------------------+---------------+------------+----+-------+-----------------+-----------+---------------+----------------+------------------+--------------+\n",
      "|2017-01-01 00:00:00|ANG MO KIO|   2 ROOM|  406|ANG MO KIO AVE 10|    10 TO 12|          44.0|      Improved|               1979|             61|    232000.0|2017|      1|          2017 1Q|        9.0|            4.0|             1.0|               2.0|          23.0|\n",
      "|2017-01-01 00:00:00|ANG MO KIO|   3 ROOM|  108| ANG MO KIO AVE 4|    01 TO 03|          67.0|New Generation|               1978|             60|    250000.0|2017|      1|          2017 1Q|        9.0|            2.0|             2.0|               3.0|          23.0|\n",
      "|2017-01-01 00:00:00|ANG MO KIO|   3 ROOM|  602| ANG MO KIO AVE 5|    01 TO 03|          67.0|New Generation|               1980|             62|    262000.0|2017|      1|          2017 1Q|        9.0|            2.0|             2.0|               3.0|          23.0|\n",
      "|2017-01-01 00:00:00|ANG MO KIO|   3 ROOM|  465|ANG MO KIO AVE 10|    04 TO 06|          68.0|New Generation|               1980|             62|    265000.0|2017|      1|          2017 1Q|        9.0|            2.0|             2.0|               0.0|          23.0|\n",
      "|2017-01-01 00:00:00|ANG MO KIO|   3 ROOM|  601| ANG MO KIO AVE 5|    01 TO 03|          67.0|New Generation|               1980|             62|    265000.0|2017|      1|          2017 1Q|        9.0|            2.0|             2.0|               3.0|          23.0|\n",
      "|2017-01-01 00:00:00|ANG MO KIO|   3 ROOM|  150| ANG MO KIO AVE 5|    01 TO 03|          68.0|New Generation|               1981|             63|    275000.0|2017|      1|          2017 1Q|        9.0|            2.0|             2.0|               3.0|          23.0|\n",
      "|2017-01-01 00:00:00|ANG MO KIO|   3 ROOM|  447|ANG MO KIO AVE 10|    04 TO 06|          68.0|New Generation|               1979|             61|    280000.0|2017|      1|          2017 1Q|        9.0|            2.0|             2.0|               0.0|          23.0|\n",
      "|2017-01-01 00:00:00|ANG MO KIO|   3 ROOM|  218| ANG MO KIO AVE 1|    04 TO 06|          67.0|New Generation|               1976|             58|    285000.0|2017|      1|          2017 1Q|        9.0|            2.0|             2.0|               0.0|          23.0|\n",
      "|2017-01-01 00:00:00|ANG MO KIO|   3 ROOM|  447|ANG MO KIO AVE 10|    04 TO 06|          68.0|New Generation|               1979|             61|    285000.0|2017|      1|          2017 1Q|        9.0|            2.0|             2.0|               0.0|          23.0|\n",
      "|2017-01-01 00:00:00|ANG MO KIO|   3 ROOM|  571| ANG MO KIO AVE 3|    01 TO 03|          67.0|New Generation|               1979|             61|    285000.0|2017|      1|          2017 1Q|        9.0|            2.0|             2.0|               3.0|          23.0|\n",
      "|2017-01-01 00:00:00|ANG MO KIO|   3 ROOM|  534|ANG MO KIO AVE 10|    01 TO 03|          68.0|New Generation|               1980|             62|    288500.0|2017|      1|          2017 1Q|        9.0|            2.0|             2.0|               3.0|          23.0|\n",
      "|2017-01-01 00:00:00|ANG MO KIO|   3 ROOM|  233| ANG MO KIO AVE 3|    10 TO 12|          67.0|New Generation|               1977|             59|    295000.0|2017|      1|          2017 1Q|        9.0|            2.0|             2.0|               2.0|          23.0|\n",
      "|2017-01-01 00:00:00|ANG MO KIO|   3 ROOM|  235| ANG MO KIO AVE 3|    04 TO 06|          67.0|New Generation|               1977|             59|    295000.0|2017|      1|          2017 1Q|        9.0|            2.0|             2.0|               0.0|          23.0|\n",
      "|2017-01-01 00:00:00|ANG MO KIO|   3 ROOM|  219| ANG MO KIO AVE 1|    07 TO 09|          67.0|New Generation|               1977|             59|    297000.0|2017|      1|          2017 1Q|        9.0|            2.0|             2.0|               1.0|          23.0|\n",
      "|2017-01-01 00:00:00|ANG MO KIO|   3 ROOM|  536|ANG MO KIO AVE 10|    07 TO 09|          68.0|New Generation|               1980|             62|    298000.0|2017|      1|          2017 1Q|        9.0|            2.0|             2.0|               1.0|          23.0|\n",
      "|2017-01-01 00:00:00|ANG MO KIO|   3 ROOM|  230| ANG MO KIO AVE 3|    04 TO 06|          67.0|New Generation|               1978|             60|    298000.0|2017|      1|          2017 1Q|        9.0|            2.0|             2.0|               0.0|          23.0|\n",
      "|2017-01-01 00:00:00|ANG MO KIO|   3 ROOM|  570| ANG MO KIO AVE 3|    10 TO 12|          67.0|New Generation|               1979|             61|    300000.0|2017|      1|          2017 1Q|        9.0|            2.0|             2.0|               2.0|          23.0|\n",
      "|2017-01-01 00:00:00|ANG MO KIO|   3 ROOM|  624| ANG MO KIO AVE 4|    04 TO 06|          68.0|New Generation|               1980|             62|    301000.0|2017|      1|          2017 1Q|        9.0|            2.0|             2.0|               0.0|          23.0|\n",
      "|2017-01-01 00:00:00|ANG MO KIO|   3 ROOM|  441|ANG MO KIO AVE 10|    07 TO 09|          67.0|New Generation|               1979|             61|    306000.0|2017|      1|          2017 1Q|        9.0|            2.0|             2.0|               1.0|          23.0|\n",
      "|2017-01-01 00:00:00|ANG MO KIO|   3 ROOM|  625| ANG MO KIO AVE 9|    04 TO 06|          68.0|New Generation|               1980|             62|    312000.0|2017|      1|          2017 1Q|        9.0|            2.0|             2.0|               0.0|          23.0|\n",
      "+-------------------+----------+---------+-----+-----------------+------------+--------------+--------------+-------------------+---------------+------------+----+-------+-----------------+-----------+---------------+----------------+------------------+--------------+\n",
      "only showing top 20 rows\n",
      "\n"
     ]
    }
   ],
   "source": [
    "indexer = StringIndexer(inputCols = [\"town\",\"flat_type\",\"flat_model\",\"storey_range\",\"formatted_quarter\"],outputCols = [\"townIndexed\",\"flatTypeIndexed\",\"flatModelIndexed\",\"storeyRangeIndexed\",\"quarterIndexed\"])\n",
    "df_r = indexer.fit(df_pyspark).transform(df_pyspark)\n",
    "df_r = df_r.withColumn(\"remaining_lease\",df_r.remaining_lease.cast(IntegerType()))\n",
    "df_r.printSchema()\n",
    "df_r.show()"
   ]
  },
  {
   "cell_type": "code",
   "execution_count": 8,
   "metadata": {},
   "outputs": [],
   "source": [
    "from pyspark.ml.feature import VectorAssembler\n",
    "feature_assembler = VectorAssembler(inputCols=['townIndexed','flatTypeIndexed','flatModelIndexed','floor_area_sqm', 'storeyRangeIndexed','remaining_lease', 'quarterIndexed'],outputCol='independent_features')\n",
    "output = feature_assembler.transform(df_r)"
   ]
  },
  {
   "cell_type": "markdown",
   "metadata": {},
   "source": [
    "## Supplementary Data"
   ]
  },
  {
   "cell_type": "markdown",
   "metadata": {},
   "source": [
    "Map the travel and walk time to the corresponding street name"
   ]
  },
  {
   "cell_type": "code",
   "execution_count": 9,
   "metadata": {},
   "outputs": [],
   "source": [
    "location_data_df = spark.read.csv(\"travel_times.csv\", header=True)\n",
    "location_dict_travelTime = dict(location_data_df.rdd.map(lambda row: (row[\"0\"], row['travel_time'])).collect())\n",
    "\n",
    "from pyspark.sql.functions import col, expr\n",
    "\n",
    "def map_travel_time(street_name):\n",
    "    return location_dict_travelTime.get(street_name, None)\n",
    "\n",
    "# Register the UDF\n",
    "spark.udf.register(\"map_travel_time\", map_travel_time)\n",
    "\n",
    "# Use the UDF to create a new column \"travelTime\"\n",
    "df_r = df_r.withColumn(\"travelTime\", expr(\"map_travel_time(street_name)\"))\n",
    "\n",
    "location_dict_walkTime = dict(location_data_df.rdd.map(lambda row: (row[\"0\"], row['walk_time'])).collect())\n",
    "\n",
    "from pyspark.sql.functions import col, expr\n",
    "\n",
    "def map_walk_time(street_name):\n",
    "    return location_dict_walkTime.get(street_name, None)\n",
    "\n",
    "# Register the UDF\n",
    "spark.udf.register(\"map_walk_time\", map_walk_time)\n",
    "\n",
    "# Use the UDF to create a new column \"travelTime\"\n",
    "df_r = df_r.withColumn(\"walkTime\", expr(\"map_walk_time(street_name)\"))\n",
    "\n",
    "df_r = df_r.withColumn(\"walkTime\",df_r.walkTime.cast(DoubleType()))\n",
    "df_r = df_r.withColumn(\"travelTime\",df_r.travelTime.cast(DoubleType()))"
   ]
  },
  {
   "cell_type": "markdown",
   "metadata": {},
   "source": [
    "## BASE MODELS"
   ]
  },
  {
   "cell_type": "code",
   "execution_count": 31,
   "metadata": {},
   "outputs": [],
   "source": [
    "all_features = ['townIndexed','flatModelIndexed','floor_area_sqm', 'storeyRangeIndexed','remaining_lease', 'resale_price','walkTime','travelTime','quarterIndexed']\n",
    "independent_features = ['townIndexed','flatModelIndexed','floor_area_sqm', 'storeyRangeIndexed','remaining_lease','walkTime','travelTime','quarterIndexed']"
   ]
  },
  {
   "cell_type": "code",
   "execution_count": 32,
   "metadata": {},
   "outputs": [],
   "source": [
    "from sklearn.preprocessing import MinMaxScaler\n",
    "from sklearn.model_selection import train_test_split\n",
    "\n",
    "base_df, val_df = df_r.select(all_features).randomSplit([0.7, 0.3], seed = 88)\n",
    "\n",
    "base_df = base_df.toPandas()\n",
    "val_df = val_df.toPandas()\n",
    "\n",
    "scaler = MinMaxScaler()\n",
    "\n",
    "# Training and testing data\n",
    "X = base_df[independent_features]\n",
    "y = base_df[\"resale_price\"]\n",
    "X_train, X_test, y_train, y_test = train_test_split(X, y, test_size = 0.29, random_state = 0)"
   ]
  },
  {
   "cell_type": "markdown",
   "metadata": {},
   "source": [
    "### **LightGBM: lgb_reg**"
   ]
  },
  {
   "cell_type": "code",
   "execution_count": 34,
   "metadata": {},
   "outputs": [],
   "source": [
    "import lightgbm as lgb"
   ]
  },
  {
   "cell_type": "code",
   "execution_count": 35,
   "metadata": {},
   "outputs": [],
   "source": [
    "# Hyperparameter tuning\n",
    "# from sklearn.model_selection import GridSearchCV\n",
    "# param_grid = {\n",
    "#     'num_leaves': [20, 30, 40, 50, 60],\n",
    "#     'learning_rate': [0.05, 0.1, 0.2, 0.25, 0.3],\n",
    "#     'n_estimators': [50, 100, 200, 230, 250]\n",
    "# }\n",
    "# lgb_reg = lgb.LGBMRegressor()\n",
    "# grid_search = GridSearchCV(lgb_reg, param_grid, scoring='neg_mean_squared_error', cv=3)\n",
    "# grid_search.fit(X_train, y_train)\n",
    "\n",
    "# # Get the best parameters and model\n",
    "# best_params = grid_search.best_params_\n",
    "# best_model = grid_search.best_estimator_\n",
    "\n",
    "# # Print the best parameters\n",
    "# print(\"Best Parameters:\", best_params)\n",
    "\n",
    "# # Print the best model\n",
    "# print(\"\\nBest Model:\")\n",
    "# print(best_model)"
   ]
  },
  {
   "cell_type": "code",
   "execution_count": 36,
   "metadata": {},
   "outputs": [
    {
     "name": "stdout",
     "output_type": "stream",
     "text": [
      "[LightGBM] [Info] Auto-choosing row-wise multi-threading, the overhead of testing was 0.000470 seconds.\n",
      "You can set `force_row_wise=true` to remove the overhead.\n",
      "And if memory is not enough, you can set `force_col_wise=true`.\n",
      "[LightGBM] [Info] Total Bins 773\n",
      "[LightGBM] [Info] Number of data points in the train set: 79866, number of used features: 8\n",
      "[LightGBM] [Info] Start training from score 485074.371048\n"
     ]
    },
    {
     "data": {
      "text/html": [
       "<style>#sk-container-id-3 {color: black;}#sk-container-id-3 pre{padding: 0;}#sk-container-id-3 div.sk-toggleable {background-color: white;}#sk-container-id-3 label.sk-toggleable__label {cursor: pointer;display: block;width: 100%;margin-bottom: 0;padding: 0.3em;box-sizing: border-box;text-align: center;}#sk-container-id-3 label.sk-toggleable__label-arrow:before {content: \"▸\";float: left;margin-right: 0.25em;color: #696969;}#sk-container-id-3 label.sk-toggleable__label-arrow:hover:before {color: black;}#sk-container-id-3 div.sk-estimator:hover label.sk-toggleable__label-arrow:before {color: black;}#sk-container-id-3 div.sk-toggleable__content {max-height: 0;max-width: 0;overflow: hidden;text-align: left;background-color: #f0f8ff;}#sk-container-id-3 div.sk-toggleable__content pre {margin: 0.2em;color: black;border-radius: 0.25em;background-color: #f0f8ff;}#sk-container-id-3 input.sk-toggleable__control:checked~div.sk-toggleable__content {max-height: 200px;max-width: 100%;overflow: auto;}#sk-container-id-3 input.sk-toggleable__control:checked~label.sk-toggleable__label-arrow:before {content: \"▾\";}#sk-container-id-3 div.sk-estimator input.sk-toggleable__control:checked~label.sk-toggleable__label {background-color: #d4ebff;}#sk-container-id-3 div.sk-label input.sk-toggleable__control:checked~label.sk-toggleable__label {background-color: #d4ebff;}#sk-container-id-3 input.sk-hidden--visually {border: 0;clip: rect(1px 1px 1px 1px);clip: rect(1px, 1px, 1px, 1px);height: 1px;margin: -1px;overflow: hidden;padding: 0;position: absolute;width: 1px;}#sk-container-id-3 div.sk-estimator {font-family: monospace;background-color: #f0f8ff;border: 1px dotted black;border-radius: 0.25em;box-sizing: border-box;margin-bottom: 0.5em;}#sk-container-id-3 div.sk-estimator:hover {background-color: #d4ebff;}#sk-container-id-3 div.sk-parallel-item::after {content: \"\";width: 100%;border-bottom: 1px solid gray;flex-grow: 1;}#sk-container-id-3 div.sk-label:hover label.sk-toggleable__label {background-color: #d4ebff;}#sk-container-id-3 div.sk-serial::before {content: \"\";position: absolute;border-left: 1px solid gray;box-sizing: border-box;top: 0;bottom: 0;left: 50%;z-index: 0;}#sk-container-id-3 div.sk-serial {display: flex;flex-direction: column;align-items: center;background-color: white;padding-right: 0.2em;padding-left: 0.2em;position: relative;}#sk-container-id-3 div.sk-item {position: relative;z-index: 1;}#sk-container-id-3 div.sk-parallel {display: flex;align-items: stretch;justify-content: center;background-color: white;position: relative;}#sk-container-id-3 div.sk-item::before, #sk-container-id-3 div.sk-parallel-item::before {content: \"\";position: absolute;border-left: 1px solid gray;box-sizing: border-box;top: 0;bottom: 0;left: 50%;z-index: -1;}#sk-container-id-3 div.sk-parallel-item {display: flex;flex-direction: column;z-index: 1;position: relative;background-color: white;}#sk-container-id-3 div.sk-parallel-item:first-child::after {align-self: flex-end;width: 50%;}#sk-container-id-3 div.sk-parallel-item:last-child::after {align-self: flex-start;width: 50%;}#sk-container-id-3 div.sk-parallel-item:only-child::after {width: 0;}#sk-container-id-3 div.sk-dashed-wrapped {border: 1px dashed gray;margin: 0 0.4em 0.5em 0.4em;box-sizing: border-box;padding-bottom: 0.4em;background-color: white;}#sk-container-id-3 div.sk-label label {font-family: monospace;font-weight: bold;display: inline-block;line-height: 1.2em;}#sk-container-id-3 div.sk-label-container {text-align: center;}#sk-container-id-3 div.sk-container {/* jupyter's `normalize.less` sets `[hidden] { display: none; }` but bootstrap.min.css set `[hidden] { display: none !important; }` so we also need the `!important` here to be able to override the default hidden behavior on the sphinx rendered scikit-learn.org. See: https://github.com/scikit-learn/scikit-learn/issues/21755 */display: inline-block !important;position: relative;}#sk-container-id-3 div.sk-text-repr-fallback {display: none;}</style><div id=\"sk-container-id-3\" class=\"sk-top-container\"><div class=\"sk-text-repr-fallback\"><pre>LGBMRegressor(learning_rate=0.25, n_estimators=300, num_leaves=60)</pre><b>In a Jupyter environment, please rerun this cell to show the HTML representation or trust the notebook. <br />On GitHub, the HTML representation is unable to render, please try loading this page with nbviewer.org.</b></div><div class=\"sk-container\" hidden><div class=\"sk-item\"><div class=\"sk-estimator sk-toggleable\"><input class=\"sk-toggleable__control sk-hidden--visually\" id=\"sk-estimator-id-3\" type=\"checkbox\" checked><label for=\"sk-estimator-id-3\" class=\"sk-toggleable__label sk-toggleable__label-arrow\">LGBMRegressor</label><div class=\"sk-toggleable__content\"><pre>LGBMRegressor(learning_rate=0.25, n_estimators=300, num_leaves=60)</pre></div></div></div></div></div>"
      ],
      "text/plain": [
       "LGBMRegressor(learning_rate=0.25, n_estimators=300, num_leaves=60)"
      ]
     },
     "execution_count": 36,
     "metadata": {},
     "output_type": "execute_result"
    }
   ],
   "source": [
    "lgb_reg = lgb.LGBMRegressor(learning_rate=0.25, n_estimators=300, num_leaves=60)\n",
    "lgb_reg.fit(X_train, y_train)\n"
   ]
  },
  {
   "cell_type": "code",
   "execution_count": 37,
   "metadata": {},
   "outputs": [
    {
     "name": "stdout",
     "output_type": "stream",
     "text": [
      "Root Mean Squared Error (RMSE): 28704.576738396634\n",
      "0.9710393534984975\n"
     ]
    },
    {
     "data": {
      "text/plain": [
       "<Axes: title={'center': 'Feature importance'}, xlabel='Feature importance', ylabel='Features'>"
      ]
     },
     "execution_count": 37,
     "metadata": {},
     "output_type": "execute_result"
    },
    {
     "data": {
      "image/png": "[encoded data removed]",
      "text/plain": [
       "<Figure size 640x480 with 1 Axes>"
      ]
     },
     "metadata": {},
     "output_type": "display_data"
    }
   ],
   "source": [
    "# Accuracy\n",
    "from sklearn.metrics import mean_squared_error\n",
    "from lightgbm import plot_importance\n",
    "\n",
    "y_pred_lgb = lgb_reg.predict(X_test)\n",
    "rmse=mean_squared_error(y_pred_lgb, y_test, squared=False)\n",
    "print(f\"Root Mean Squared Error (RMSE): {rmse}\")\n",
    "print(lgb_reg.score(X_test, y_test))\n",
    "plot_importance(lgb_reg)"
   ]
  },
  {
   "cell_type": "markdown",
   "metadata": {},
   "source": [
    "### **Random Forests: rf_reg**"
   ]
  },
  {
   "cell_type": "code",
   "execution_count": 38,
   "metadata": {},
   "outputs": [],
   "source": [
    "from sklearn.ensemble import RandomForestRegressor\n"
   ]
  },
  {
   "cell_type": "code",
   "execution_count": 39,
   "metadata": {},
   "outputs": [],
   "source": [
    "# param_grid = {\n",
    "#     'n_estimators': [50, 100, 200,300,350],\n",
    "#     'max_depth': [3, 5, 10,15,20],\n",
    "#     'min_samples_split': [2, 5, 10,15,20]\n",
    "# }\n",
    "\n",
    "# # Initialize the Random Forest Regressor\n",
    "# rf_regressor = RandomForestRegressor(random_state=42)\n",
    "\n",
    "# # Initialize GridSearchCV\n",
    "# grid_search = GridSearchCV(rf_regressor, param_grid, scoring='neg_mean_squared_error', cv=3)\n",
    "\n",
    "# # Fit the GridSearchCV to the data\n",
    "# grid_search.fit(X, y)\n",
    "\n",
    "# # Get the best parameters and model\n",
    "# best_params = grid_search.best_params_\n",
    "# best_model = grid_search.best_estimator_\n",
    "\n",
    "# # Print the best parameters\n",
    "# print(\"Best Parameters:\", best_params)\n",
    "\n",
    "# # Print the best model\n",
    "# print(\"\\nBest Model:\")\n",
    "# print(best_model)"
   ]
  },
  {
   "cell_type": "markdown",
   "metadata": {},
   "source": [
    "Best Parameters: {'max_depth': 20, 'min_samples_split': 15, 'n_estimators': 300}\n",
    "\n",
    "Best Model:\n",
    "RandomForestRegressor(max_depth=20, min_samples_split=15, n_estimators=300,\n",
    "                      random_state=42)"
   ]
  },
  {
   "cell_type": "code",
   "execution_count": 40,
   "metadata": {},
   "outputs": [
    {
     "data": {
      "text/html": [
       "<style>#sk-container-id-4 {color: black;}#sk-container-id-4 pre{padding: 0;}#sk-container-id-4 div.sk-toggleable {background-color: white;}#sk-container-id-4 label.sk-toggleable__label {cursor: pointer;display: block;width: 100%;margin-bottom: 0;padding: 0.3em;box-sizing: border-box;text-align: center;}#sk-container-id-4 label.sk-toggleable__label-arrow:before {content: \"▸\";float: left;margin-right: 0.25em;color: #696969;}#sk-container-id-4 label.sk-toggleable__label-arrow:hover:before {color: black;}#sk-container-id-4 div.sk-estimator:hover label.sk-toggleable__label-arrow:before {color: black;}#sk-container-id-4 div.sk-toggleable__content {max-height: 0;max-width: 0;overflow: hidden;text-align: left;background-color: #f0f8ff;}#sk-container-id-4 div.sk-toggleable__content pre {margin: 0.2em;color: black;border-radius: 0.25em;background-color: #f0f8ff;}#sk-container-id-4 input.sk-toggleable__control:checked~div.sk-toggleable__content {max-height: 200px;max-width: 100%;overflow: auto;}#sk-container-id-4 input.sk-toggleable__control:checked~label.sk-toggleable__label-arrow:before {content: \"▾\";}#sk-container-id-4 div.sk-estimator input.sk-toggleable__control:checked~label.sk-toggleable__label {background-color: #d4ebff;}#sk-container-id-4 div.sk-label input.sk-toggleable__control:checked~label.sk-toggleable__label {background-color: #d4ebff;}#sk-container-id-4 input.sk-hidden--visually {border: 0;clip: rect(1px 1px 1px 1px);clip: rect(1px, 1px, 1px, 1px);height: 1px;margin: -1px;overflow: hidden;padding: 0;position: absolute;width: 1px;}#sk-container-id-4 div.sk-estimator {font-family: monospace;background-color: #f0f8ff;border: 1px dotted black;border-radius: 0.25em;box-sizing: border-box;margin-bottom: 0.5em;}#sk-container-id-4 div.sk-estimator:hover {background-color: #d4ebff;}#sk-container-id-4 div.sk-parallel-item::after {content: \"\";width: 100%;border-bottom: 1px solid gray;flex-grow: 1;}#sk-container-id-4 div.sk-label:hover label.sk-toggleable__label {background-color: #d4ebff;}#sk-container-id-4 div.sk-serial::before {content: \"\";position: absolute;border-left: 1px solid gray;box-sizing: border-box;top: 0;bottom: 0;left: 50%;z-index: 0;}#sk-container-id-4 div.sk-serial {display: flex;flex-direction: column;align-items: center;background-color: white;padding-right: 0.2em;padding-left: 0.2em;position: relative;}#sk-container-id-4 div.sk-item {position: relative;z-index: 1;}#sk-container-id-4 div.sk-parallel {display: flex;align-items: stretch;justify-content: center;background-color: white;position: relative;}#sk-container-id-4 div.sk-item::before, #sk-container-id-4 div.sk-parallel-item::before {content: \"\";position: absolute;border-left: 1px solid gray;box-sizing: border-box;top: 0;bottom: 0;left: 50%;z-index: -1;}#sk-container-id-4 div.sk-parallel-item {display: flex;flex-direction: column;z-index: 1;position: relative;background-color: white;}#sk-container-id-4 div.sk-parallel-item:first-child::after {align-self: flex-end;width: 50%;}#sk-container-id-4 div.sk-parallel-item:last-child::after {align-self: flex-start;width: 50%;}#sk-container-id-4 div.sk-parallel-item:only-child::after {width: 0;}#sk-container-id-4 div.sk-dashed-wrapped {border: 1px dashed gray;margin: 0 0.4em 0.5em 0.4em;box-sizing: border-box;padding-bottom: 0.4em;background-color: white;}#sk-container-id-4 div.sk-label label {font-family: monospace;font-weight: bold;display: inline-block;line-height: 1.2em;}#sk-container-id-4 div.sk-label-container {text-align: center;}#sk-container-id-4 div.sk-container {/* jupyter's `normalize.less` sets `[hidden] { display: none; }` but bootstrap.min.css set `[hidden] { display: none !important; }` so we also need the `!important` here to be able to override the default hidden behavior on the sphinx rendered scikit-learn.org. See: https://github.com/scikit-learn/scikit-learn/issues/21755 */display: inline-block !important;position: relative;}#sk-container-id-4 div.sk-text-repr-fallback {display: none;}</style><div id=\"sk-container-id-4\" class=\"sk-top-container\"><div class=\"sk-text-repr-fallback\"><pre>RandomForestRegressor(max_depth=20, max_leaf_nodes=3000, min_samples_split=15,\n",
       "                      n_estimators=300)</pre><b>In a Jupyter environment, please rerun this cell to show the HTML representation or trust the notebook. <br />On GitHub, the HTML representation is unable to render, please try loading this page with nbviewer.org.</b></div><div class=\"sk-container\" hidden><div class=\"sk-item\"><div class=\"sk-estimator sk-toggleable\"><input class=\"sk-toggleable__control sk-hidden--visually\" id=\"sk-estimator-id-4\" type=\"checkbox\" checked><label for=\"sk-estimator-id-4\" class=\"sk-toggleable__label sk-toggleable__label-arrow\">RandomForestRegressor</label><div class=\"sk-toggleable__content\"><pre>RandomForestRegressor(max_depth=20, max_leaf_nodes=3000, min_samples_split=15,\n",
       "                      n_estimators=300)</pre></div></div></div></div></div>"
      ],
      "text/plain": [
       "RandomForestRegressor(max_depth=20, max_leaf_nodes=3000, min_samples_split=15,\n",
       "                      n_estimators=300)"
      ]
     },
     "execution_count": 40,
     "metadata": {},
     "output_type": "execute_result"
    }
   ],
   "source": [
    "rf_reg = RandomForestRegressor(max_depth=20, min_samples_split=15, n_estimators=300, max_leaf_nodes= 3000)\n",
    "rf_reg.fit(X_train, y_train)"
   ]
  },
  {
   "cell_type": "code",
   "execution_count": 41,
   "metadata": {},
   "outputs": [
    {
     "name": "stdout",
     "output_type": "stream",
     "text": [
      "Mean Squared Error (MSE): 40052.79505165723\n"
     ]
    },
    {
     "data": {
      "text/plain": [
       "0.9436139574755625"
      ]
     },
     "execution_count": 41,
     "metadata": {},
     "output_type": "execute_result"
    }
   ],
   "source": [
    "y_pred_rf = rf_reg.predict(X_test)\n",
    "rmse = mean_squared_error(y_test, y_pred_rf, squared=False)\n",
    "print(f\"Mean Squared Error (MSE): {rmse}\")\n",
    "rf_reg.score(X_test, y_test)"
   ]
  },
  {
   "cell_type": "code",
   "execution_count": 42,
   "metadata": {},
   "outputs": [
    {
     "data": {
      "image/png": "[encoded data removed]",
      "text/plain": [
       "<Figure size 640x480 with 1 Axes>"
      ]
     },
     "metadata": {},
     "output_type": "display_data"
    }
   ],
   "source": [
    "import matplotlib.pyplot as plt\n",
    "\n",
    "plt.scatter(y_test, y_pred_rf)\n",
    "plt.xlabel('True Values')\n",
    "plt.ylabel('Predictions')\n",
    "plt.title('Predictions vs Actual')\n",
    "plt.show()"
   ]
  },
  {
   "cell_type": "markdown",
   "metadata": {},
   "source": [
    "### **Multiple Regression**"
   ]
  },
  {
   "cell_type": "code",
   "execution_count": 43,
   "metadata": {},
   "outputs": [
    {
     "name": "stdout",
     "output_type": "stream",
     "text": [
      "Coefficients: [ 7642.88863142  9384.01062117  3941.98542703 16275.68933978\n",
      "  3827.44795419    91.77063991   -82.98065987 -3008.50993261]\n",
      "Intercept: -252330.69042982487\n",
      "0.6128578128102367\n"
     ]
    }
   ],
   "source": [
    "from sklearn.linear_model import LinearRegression\n",
    "import pandas as pd\n",
    "\n",
    "# Creating a linear regression model\n",
    "mult_reg = LinearRegression()\n",
    "\n",
    "# Training the model with the data\n",
    "mult_reg.fit(X_train, y_train)\n",
    "\n",
    "# Printing the coefficients and intercept\n",
    "print(\"Coefficients:\", mult_reg.coef_)\n",
    "print(\"Intercept:\", mult_reg.intercept_)\n",
    "print(mult_reg.score(X_test, y_test))"
   ]
  }
 ],
 "metadata": {
  "kernelspec": {
   "display_name": "Python 3",
   "language": "python",
   "name": "python3"
  },
  "language_info": {
   "codemirror_mode": {
    "name": "ipython",
    "version": 3
   },
   "file_extension": ".py",
   "mimetype": "text/x-python",
   "name": "python",
   "nbconvert_exporter": "python",
   "pygments_lexer": "ipython3",
   "version": "3.10.2"
  },
  "orig_nbformat": 4
 },
 "nbformat": 4,
 "nbformat_minor": 2
}
