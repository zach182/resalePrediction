{
 "cells": [
  {
   "cell_type": "markdown",
   "metadata": {},
   "source": [
    "# Load data"
   ]
  },
  {
   "cell_type": "code",
   "execution_count": 58,
   "metadata": {},
   "outputs": [],
   "source": [
    "import pandas as pd\n",
    "import requests\n",
    "from requests.adapters import HTTPAdapter, Retry\n",
    "\n",
    "# Formatting the coordinates into a format recognised by the API\n",
    "mrt_df = pd.read_csv(\"mrt_lrt_data.csv\")\n",
    "mrt_df[\"coord\"] = mrt_df[\"lat\"].astype(str) +\"%2C\"+ mrt_df[\"lng\"].astype(str)"
   ]
  },
  {
   "cell_type": "code",
   "execution_count": 277,
   "metadata": {},
   "outputs": [],
   "source": [
    "street_df =  pd.read_csv(\"ResaleflatpricesbasedonregistrationdatefromJan2017onwards.csv\")\n",
    "street_df = street_df[\"street_name\"].unique()\n",
    "street_df = pd.DataFrame(street_df)"
   ]
  },
  {
   "cell_type": "markdown",
   "metadata": {},
   "source": [
    "# Google Maps API\n",
    "\n",
    "Documentation: https://developers.google.com/maps/documentation/geocoding/overview\n",
    "\n",
    "\n",
    "This section will geocode the street names into coordinates"
   ]
  },
  {
   "cell_type": "code",
   "execution_count": 274,
   "metadata": {},
   "outputs": [],
   "source": [
    "google_api_key = \"xxxxx\""
   ]
  },
  {
   "cell_type": "markdown",
   "metadata": {},
   "source": [
    "**Setting up the API**"
   ]
  },
  {
   "cell_type": "code",
   "execution_count": 275,
   "metadata": {},
   "outputs": [],
   "source": [
    "google_geocode_api = requests.Session()\n",
    "retries = Retry(total=5, backoff_factor=1, status_forcelist=[ 502, 503, 504, 400, \"ZERO_RESULTS\" ])\n",
    "google_geocode_api.mount('http://', HTTPAdapter(max_retries=retries))"
   ]
  },
  {
   "cell_type": "markdown",
   "metadata": {},
   "source": [
    "**Transforming some addresses:**\n",
    "\n",
    "The Google Maps API was not able to find some streets because it contained a few shortform spellings of certain words, for example \"kampong\" or \"jalan\" was written as \"KG\" and \"JLN\" respectively. On top of that some streets names just could not be retrieved, so a nearby street was used to replace it as an approximation"
   ]
  },
  {
   "cell_type": "code",
   "execution_count": 349,
   "metadata": {},
   "outputs": [],
   "source": [
    "def get_coord(address):\n",
    "    address = address.replace(\"EDGEFIELD PLAINS\", \"Punggol Central\")\n",
    "    address = address.replace(\"HENDERSON RD\", \"Bukit Merah Central\")\n",
    "    address = address.replace(\"DEPOT RD\", \"Bukit Merah Central\")\n",
    "    address = address.replace(\"JLN \", \"Jalan \")\n",
    "    address = address.replace(\"KG \", \"Kampong \")\n",
    "    address = address.replace(\" NTH \", \" North \")\n",
    "    address = address.replace(\"NTH \", \"North \")\n",
    "    address = address.replace(\" DR\", \" Drive\")\n",
    "    address = address.replace(\"QUEEN ST\", \"MIDDLE ROAD\")\n",
    "    address = address.replace(\" RD\", \" Road\")\n",
    "    address = address.replace(\"BEACH ROAD\", \"BEACH RD\")\n",
    "    address = address.replace(\"CAMBRIDGE ROAD\", \"CAMBRIDGE ROAD SINGAPORE\")\n",
    "    address = address.replace(\" PL\", \" Place\")\n",
    "    address = address.replace(\" CL\", \" Close\")\n",
    "    address = address.replace(\" ST\", \" Street\")\n",
    "    address = address.replace(\"MARINE TER\", \"MARINE CRES\")\n",
    "    address = address.replace(\" TER\", \" Terrace\")\n",
    "    address = address.replace(\"C'WEALTH\", \"Commonwealth\")\n",
    "    url_coord =  \"https://maps.googleapis.com/maps/api/geocode/json?address=\"+address+\" singapore&region=SG\"+\"&key=\" + google_api_key+\"&components=route\"\n",
    "    response_coord = google_geocode_api.get(url_coord)\n",
    "    response_coord = response_coord.json()\n",
    "    return response_coord[\"results\"]"
   ]
  },
  {
   "cell_type": "code",
   "execution_count": 351,
   "metadata": {},
   "outputs": [],
   "source": [
    "street_df[\"coordinates\"] = street_df[0].apply(get_coord)\n",
    "street_df.head()"
   ]
  },
  {
   "cell_type": "code",
   "execution_count": 353,
   "metadata": {},
   "outputs": [],
   "source": [
    "import json\n",
    "street_df[\"coordinates\"] = street_df[\"coordinates\"].apply(lambda x: x[0] if len(x) > 0 else None)\n",
    "geometry = street_df[\"coordinates\"].apply(lambda x: x.get(\"geometry\") if isinstance(x, dict) else None)\n",
    "lat_long = geometry.apply(lambda x: x.get(\"location\") if isinstance(x, dict) else None)\n",
    "street_df[\"latitude\"]= lat_long.apply(lambda x: x.get(\"lat\") if isinstance(x, dict) else None)\n",
    "street_df[\"longitude\"]= lat_long.apply(lambda x: x.get(\"lng\") if isinstance(x, dict) else None)\n",
    "street_df[\"lat_long\"] = street_df[\"latitude\"].astype(str) +\"%2C\"+ street_df[\"longitude\"].astype(str)\n"
   ]
  },
  {
   "cell_type": "markdown",
   "metadata": {},
   "source": [
    "**Save street coordinates to CSV**"
   ]
  },
  {
   "cell_type": "code",
   "execution_count": 354,
   "metadata": {},
   "outputs": [],
   "source": [
    "street_df.to_csv(\"street_coord.csv\")"
   ]
  },
  {
   "cell_type": "markdown",
   "metadata": {},
   "source": [
    "# Find the closest MRT station for each street\n",
    "\n",
    "Normally, the Haversine formula is used to calculate the distance between coordinates, which takes into consideration the curvature of the Earth. However, for ease of coding, and also because Singapore is so small, taking a simple Euclidean distance suffices."
   ]
  },
  {
   "cell_type": "code",
   "execution_count": 356,
   "metadata": {},
   "outputs": [],
   "source": [
    "street_df_complete = street_df\n",
    "mrt_df['coord_tuple'] = mrt_df.apply(lambda row: [row['lat'], row['lng']], axis=1)\n",
    "street_df_complete['coord_tuple'] = street_df_complete.apply(lambda row: [row['latitude'], row['longitude']], axis=1)"
   ]
  },
  {
   "cell_type": "code",
   "execution_count": 357,
   "metadata": {},
   "outputs": [],
   "source": [
    "from scipy.spatial import distance\n",
    "\n",
    "# function to calculate closest euclidean distance\n",
    "def closest_mrt(coord_tuple):\n",
    "    return min(mrt_df[\"coord_tuple\"], key=lambda x: distance.euclidean(x, coord_tuple))"
   ]
  },
  {
   "cell_type": "code",
   "execution_count": 359,
   "metadata": {},
   "outputs": [],
   "source": [
    "street_df_complete[\"closest_mrt\"] = street_df_complete[\"coord_tuple\"].apply(closest_mrt)"
   ]
  },
  {
   "cell_type": "code",
   "execution_count": 360,
   "metadata": {},
   "outputs": [],
   "source": [
    "street_df_complete[\"closest_mrt\"] = street_df_complete[\"closest_mrt\"].astype(str)\n",
    "street_df_complete[\"closest_mrt\"] =street_df_complete[\"closest_mrt\"].str.replace(\"[\",\"\")\n",
    "street_df_complete[\"closest_mrt\"] =street_df_complete[\"closest_mrt\"].str.replace(\"]\",\"\")\n",
    "street_df_complete[\"closest_mrt\"] =street_df_complete[\"closest_mrt\"].str.replace(\" \",\"\")\n",
    "street_df_complete[\"closest_mrt\"] =street_df_complete[\"closest_mrt\"].str.replace(\",\",\"%2C\")"
   ]
  },
  {
   "cell_type": "markdown",
   "metadata": {},
   "source": [
    "# OneMap API\n",
    "\n",
    "Documentation: https://www.onemap.gov.sg/apidocs/apidocs\n",
    "\n",
    "This section will generate the route to take from a street's coordinates to its nearest train station."
   ]
  },
  {
   "cell_type": "code",
   "execution_count": 361,
   "metadata": {},
   "outputs": [],
   "source": [
    "key = \"xxxxx\""
   ]
  },
  {
   "cell_type": "code",
   "execution_count": 364,
   "metadata": {},
   "outputs": [],
   "source": [
    "def get_route_url(start, end):\n",
    "    baseurl = \"https://www.onemap.gov.sg/api/public/routingsvc/route?\"\n",
    "    routeType=\"pt\"\n",
    "    date=\"10-04-2023\"\n",
    "    time=\"07%3A35%3A00\"\n",
    "    mode=\"TRANSIT\"\n",
    "    numItineraries = \"1\"\n",
    "    url = baseurl+\"start=\"+start+\"&end=\"+end+\"&routeType=\"+routeType+\"&date=\"+date+\"&time=\"+time+\"&mode=\"+mode+\"&numItineraries=\"+numItineraries\n",
    "    return url"
   ]
  },
  {
   "cell_type": "markdown",
   "metadata": {},
   "source": [
    "# Travel time to nearest MRT"
   ]
  },
  {
   "cell_type": "code",
   "execution_count": 366,
   "metadata": {},
   "outputs": [],
   "source": [
    "street_df_complete[\"route_url\"] = street_df_complete.apply(lambda x: get_route_url(x[\"lat_long\"], x[\"closest_mrt\"]), axis=1)"
   ]
  },
  {
   "cell_type": "markdown",
   "metadata": {},
   "source": [
    "#### API call to OneMap"
   ]
  },
  {
   "cell_type": "code",
   "execution_count": 377,
   "metadata": {},
   "outputs": [],
   "source": [
    "oneMap_api = requests.Session()\n",
    "retries = Retry(total=5, backoff_factor=1, status_forcelist=[ 502, 503, 504, 400])\n",
    "oneMap_api.mount('http://', HTTPAdapter(max_retries=retries))\n",
    "headers = {\"Authorization\": key}"
   ]
  },
  {
   "cell_type": "code",
   "execution_count": 378,
   "metadata": {},
   "outputs": [],
   "source": [
    "street_df_complete[\"route\"] = street_df_complete[\"route_url\"].apply(lambda x: oneMap_api.request(\"GET\", x, headers=headers).json())"
   ]
  },
  {
   "cell_type": "code",
   "execution_count": 368,
   "metadata": {},
   "outputs": [],
   "source": [
    "import pandas as pd\n",
    "street_df_complete = pd.read_csv(\"complete_street_data.csv\", header = 0)"
   ]
  },
  {
   "cell_type": "code",
   "execution_count": 369,
   "metadata": {},
   "outputs": [],
   "source": [
    "import json\n",
    "street_df_complete[\"route\"] =  street_df_complete[\"route\"].to_dict()\n",
    "street_df_complete[\"route\"].apply(lambda x: x.get(\"requestParameters\", None) if isinstance(x, dict) else None)"
   ]
  },
  {
   "cell_type": "code",
   "execution_count": 464,
   "metadata": {},
   "outputs": [],
   "source": [
    "street_df_complete[\"plan\"] = street_df_complete[\"route\"].apply(lambda x: x.get(\"plan\", None) if isinstance(x, dict) else None)\n",
    "street_df_complete[\"itinerary\"] = street_df_complete[\"plan\"].apply(lambda x: x.get(\"itineraries\", None) if isinstance(x, dict) else None)\n",
    "street_df_complete[\"travel_time\"] = street_df_complete[\"itinerary\"].apply(lambda x: x[0].get(\"duration\", None) if isinstance(x, list) else None)\n",
    "street_df_complete[\"walk_time\"] = street_df_complete[\"itinerary\"].apply(lambda x: x[0].get(\"walkTime\", None) if isinstance(x, list) else None)\n"
   ]
  },
  {
   "cell_type": "markdown",
   "metadata": {},
   "source": [
    "Export the CSV for use in main script"
   ]
  },
  {
   "cell_type": "code",
   "execution_count": 467,
   "metadata": {},
   "outputs": [],
   "source": [
    "street_df_complete.to_csv(\"complete_street_data.csv\")"
   ]
  }
 ],
 "metadata": {
  "kernelspec": {
   "display_name": "Python 3",
   "language": "python",
   "name": "python3"
  },
  "language_info": {
   "codemirror_mode": {
    "name": "ipython",
    "version": 3
   },
   "file_extension": ".py",
   "mimetype": "text/x-python",
   "name": "python",
   "nbconvert_exporter": "python",
   "pygments_lexer": "ipython3",
   "version": "3.10.2"
  }
 },
 "nbformat": 4,
 "nbformat_minor": 2
}
